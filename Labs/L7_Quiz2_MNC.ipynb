{
 "cells": [
  {
   "cell_type": "markdown",
   "metadata": {},
   "source": [
    "# Lecture 7"
   ]
  },
  {
   "cell_type": "markdown",
   "metadata": {},
   "source": [
    "## Mean/Variance\n",
    "\n",
    "Also for lab 3, remember the equations for mean/variance. If you have a data sample ${x_1, x_2, ..., x_N}$ the mean is:\n",
    "\n",
    "$$ \n",
    "\\bar{x} = \\frac{1}{N}\\sum_{i=1}^{N} x_i\n",
    "$$\n",
    "\n",
    "and the variance is:\n",
    "\n",
    "$$\n",
    "<x^2> = \\frac{1}{N-1} \\sum_{i=1}^{N} (x_i - \\bar{x})^2\n",
    "$$"
   ]
  },
  {
   "cell_type": "markdown",
   "metadata": {},
   "source": [
    "## Random Number Generator\n",
    "\n",
    "We have learned about probability distributions and how data is generally a collection of random variables drawn from probability distributions. \n",
    "\n",
    "We also have discussed that analysis of a dataset is often really just trying to characterize the probability distributions of the random variables. Once we understand those probability distributions, we can then make predictions about future data.\n",
    "\n",
    "But we can also create (e.g. simulate) new data from the probability distributions. \n",
    "\n",
    "So how do we get a computer to generate data (e.g. random variables) from probability distributions? First, think about generating random numbers in a computer."
   ]
  },
  {
   "cell_type": "code",
   "execution_count": null,
   "metadata": {},
   "outputs": [],
   "source": [
    "# Setup to make historgrams later...\n",
    "%matplotlib inline\n",
    "import matplotlib.pyplot as plt\n",
    "import numpy as np"
   ]
  },
  {
   "cell_type": "code",
   "execution_count": null,
   "metadata": {},
   "outputs": [],
   "source": [
    "def uniform_generator(seed=123124.):\n",
    "    a=1111111\n",
    "    b=2222222\n",
    "    m=6700417 # This is a large prime number\n",
    "    x=seed\n",
    "    \n",
    "    def random():\n",
    "        nonlocal x\n",
    "        x=(a*x+b)%m\n",
    "        return x/m  # divide by m to set range to 0->1\n",
    "    \n",
    "    return random"
   ]
  },
  {
   "cell_type": "markdown",
   "metadata": {},
   "source": [
    "Quick side note: The use of `nonlocal`. In python, functions have their own local scope where references to variables created in the function are kept with the instance of the call to the function. The function has access to the scope from which it was defined as well as the global scope. When searching for a variable, python looks in the local scope first and works itself to the global scope. However, variable assignment causes a new variable within this local scope. Therefore in the in the case above, the assignment `x=(a*x+b)%m` will supercede `x=seed`. `nonlocal` tells python to use the variable in the previous scope."
   ]
  },
  {
   "cell_type": "code",
   "execution_count": null,
   "metadata": {},
   "outputs": [],
   "source": [
    "my_uniform=uniform_generator()"
   ]
  },
  {
   "cell_type": "code",
   "execution_count": null,
   "metadata": {},
   "outputs": [],
   "source": [
    "random_numbers=list()\n",
    "for _ in range(10):\n",
    "    random_numbers.append(my_uniform())"
   ]
  },
  {
   "cell_type": "code",
   "execution_count": null,
   "metadata": {},
   "outputs": [],
   "source": [
    "random_numbers"
   ]
  },
  {
   "cell_type": "code",
   "execution_count": null,
   "metadata": {},
   "outputs": [],
   "source": [
    "random_numbers=list()\n",
    "for _ in range(10000):\n",
    "    random_numbers.append(my_uniform())\n",
    "_=plt.hist(random_numbers,bins=10)"
   ]
  },
  {
   "cell_type": "markdown",
   "metadata": {},
   "source": [
    "## Exponential Generator"
   ]
  },
  {
   "cell_type": "code",
   "execution_count": null,
   "metadata": {},
   "outputs": [],
   "source": [
    "import math\n",
    "\n",
    "def generate_exp(tau,seed=32144):\n",
    "    my_uniform=uniform_generator(seed)\n",
    "    \n",
    "    def generator():\n",
    "        nonlocal my_uniform\n",
    "        nonlocal tau\n",
    "        u = my_uniform()\n",
    "        return -tau*(math.log(1.-u))\n",
    "    \n",
    "    return generator"
   ]
  },
  {
   "cell_type": "code",
   "execution_count": null,
   "metadata": {},
   "outputs": [],
   "source": [
    "my_exp_generator= generate_exp(10.)"
   ]
  },
  {
   "cell_type": "code",
   "execution_count": null,
   "metadata": {},
   "outputs": [],
   "source": [
    "my_exp_generator()"
   ]
  },
  {
   "cell_type": "code",
   "execution_count": null,
   "metadata": {
    "scrolled": false
   },
   "outputs": [],
   "source": [
    "random_numbers=list()\n",
    "for _ in range(10000):\n",
    "    random_numbers.append(my_exp_generator())\n",
    "_=plt.hist(random_numbers,bins=25)"
   ]
  },
  {
   "cell_type": "markdown",
   "metadata": {},
   "source": [
    "## Scaling/Shifting\n",
    "\n",
    "Reminder about lab 3: unless explicitly specified, don't use numpy. \n",
    "\n",
    "In the beginning of Lab 3 you are asked to take random numbers between 0 and 1 and scale and shift them to be between $x_{min}$ and $x_{max}$. The formula is pretty basic. If $x_0$ is between 0 and 1 then $x$ computed as:\n",
    "$$\n",
    "x= (x_{max}-x_{min}) x_0 + x_{min}\n",
    "$$\n",
    "will be between $x_{min}$ and $x_{max}$. \n",
    "\n",
    "In your solution, you'll most likely generate $x_0$ one by one, compute $x$, and store $x$ into a list to be returned from your function.\n"
   ]
  },
  {
   "cell_type": "markdown",
   "metadata": {},
   "source": [
    "## Min, Max, ArgMin, ArgMax\n",
    "\n",
    "Consider a list of random numbers:"
   ]
  },
  {
   "cell_type": "code",
   "execution_count": null,
   "metadata": {},
   "outputs": [],
   "source": [
    "import random\n",
    "data = [random.random() for _ in range(100)]"
   ]
  },
  {
   "cell_type": "code",
   "execution_count": null,
   "metadata": {
    "scrolled": true
   },
   "outputs": [],
   "source": [
    "data"
   ]
  },
  {
   "cell_type": "markdown",
   "metadata": {},
   "source": [
    "You find the largest and smallest numbers in the list:"
   ]
  },
  {
   "cell_type": "code",
   "execution_count": null,
   "metadata": {},
   "outputs": [],
   "source": [
    "max(data),min(data)"
   ]
  },
  {
   "cell_type": "markdown",
   "metadata": {},
   "source": [
    "It is convenient that `max` and `min` are available in python, but let's think about how we would implement one of these functions:"
   ]
  },
  {
   "cell_type": "code",
   "execution_count": null,
   "metadata": {},
   "outputs": [],
   "source": [
    "def find_max(d):\n",
    "    a_max=d[0]\n",
    "    for e in d:\n",
    "        if e>a_max:\n",
    "            a_max=e\n",
    "    return a_max"
   ]
  },
  {
   "cell_type": "code",
   "execution_count": null,
   "metadata": {},
   "outputs": [],
   "source": [
    "find_max(data)"
   ]
  },
  {
   "cell_type": "markdown",
   "metadata": {},
   "source": [
    "While `max` gives us the largest value, we may instead be interested to know which element in the list is the largest (i.e. what is the index of the largest value)... this is where `argmax` comes in:"
   ]
  },
  {
   "cell_type": "code",
   "execution_count": null,
   "metadata": {},
   "outputs": [],
   "source": [
    "def argmax_1(d):\n",
    "    a_max = d[0]\n",
    "    i_max = 0\n",
    "    for i in range(len(d)):\n",
    "        if d[i] > a_max:\n",
    "            a_max = d[i]\n",
    "            i_max = i\n",
    "    return i_max, a_max\n",
    "\n",
    "\n",
    "print(argmax_1(data))\n",
    "            "
   ]
  },
  {
   "cell_type": "code",
   "execution_count": null,
   "metadata": {},
   "outputs": [],
   "source": [
    "def find_argmax(d):\n",
    "    a_max=d[0]\n",
    "    i_max=0\n",
    "    for i,e in enumerate(d):\n",
    "        if e > a_max:\n",
    "            a_max=e\n",
    "            i_max=i\n",
    "    return i_max"
   ]
  },
  {
   "cell_type": "code",
   "execution_count": null,
   "metadata": {},
   "outputs": [],
   "source": [
    "find_argmax(data)"
   ]
  },
  {
   "cell_type": "markdown",
   "metadata": {},
   "source": [
    "## Numerical Manipulation of Mathematical Functions \n",
    "\n",
    "Recall that we can easily make a list of sequential intergers using `range`."
   ]
  },
  {
   "cell_type": "code",
   "execution_count": null,
   "metadata": {},
   "outputs": [],
   "source": [
    "list(range(5,20,3))"
   ]
  },
  {
   "cell_type": "markdown",
   "metadata": {},
   "source": [
    "What if we wanted to do something similar but with non-intergers, for example in step size of 1/2:"
   ]
  },
  {
   "cell_type": "code",
   "execution_count": null,
   "metadata": {},
   "outputs": [],
   "source": [
    "list(range(5.,20.,.5))"
   ]
  },
  {
   "cell_type": "markdown",
   "metadata": {},
   "source": [
    "Let's implement what we need:"
   ]
  },
  {
   "cell_type": "code",
   "execution_count": null,
   "metadata": {},
   "outputs": [],
   "source": [
    "def arange(x_min,x_max,step_size=1.):\n",
    "    if step_size >= 0 and x_max<x_min:\n",
    "        return list()\n",
    "    \n",
    "    if step_size < 0 and x_max>x_min:\n",
    "        return list()\n",
    "    \n",
    "    x=x_min\n",
    "    out = list()\n",
    "    while x<x_max:\n",
    "        out.append(x)\n",
    "        x+=step_size\n",
    "    return out"
   ]
  },
  {
   "cell_type": "code",
   "execution_count": null,
   "metadata": {
    "scrolled": true
   },
   "outputs": [],
   "source": [
    "arange(5.,20.,.5)"
   ]
  },
  {
   "cell_type": "markdown",
   "metadata": {},
   "source": [
    "An alternative similar function is:"
   ]
  },
  {
   "cell_type": "code",
   "execution_count": null,
   "metadata": {},
   "outputs": [],
   "source": [
    "def linspace(x_min,x_max,steps=10):\n",
    "    step_size=(x_max-x_min)/steps\n",
    "    x=x_min\n",
    "    out = list()\n",
    "    for i in range(steps):\n",
    "        out.append(x)\n",
    "        x+=step_size\n",
    "    return out"
   ]
  },
  {
   "cell_type": "code",
   "execution_count": null,
   "metadata": {},
   "outputs": [],
   "source": [
    "linspace(5.,20.,10)"
   ]
  },
  {
   "cell_type": "code",
   "execution_count": null,
   "metadata": {},
   "outputs": [],
   "source": [
    "linspace(5.,0.,10)"
   ]
  },
  {
   "cell_type": "markdown",
   "metadata": {},
   "source": [
    "Now lets use what we wrote to investigate a mathematical function:"
   ]
  },
  {
   "cell_type": "code",
   "execution_count": null,
   "metadata": {},
   "outputs": [],
   "source": [
    "def a_function(x):\n",
    "    return (1+x)**2"
   ]
  },
  {
   "cell_type": "code",
   "execution_count": null,
   "metadata": {},
   "outputs": [],
   "source": [
    "x_vals = arange(-5.,5.,0.1)\n",
    "print(x_vals)"
   ]
  },
  {
   "cell_type": "markdown",
   "metadata": {},
   "source": [
    "3 ways to do the same thing:"
   ]
  },
  {
   "cell_type": "code",
   "execution_count": null,
   "metadata": {},
   "outputs": [],
   "source": [
    "y_vals = list()\n",
    "for x in x_vals:\n",
    "    y_vals.append(a_function(x))"
   ]
  },
  {
   "cell_type": "code",
   "execution_count": null,
   "metadata": {},
   "outputs": [],
   "source": [
    "y_vals = [a_function(x) for x in x_vals]"
   ]
  },
  {
   "cell_type": "code",
   "execution_count": null,
   "metadata": {},
   "outputs": [],
   "source": [
    "y_vals = list(map(a_function,x_vals))\n",
    "print(y_vals)"
   ]
  },
  {
   "cell_type": "code",
   "execution_count": null,
   "metadata": {},
   "outputs": [],
   "source": [
    "plt.plot(x_vals,y_vals)"
   ]
  },
  {
   "cell_type": "code",
   "execution_count": null,
   "metadata": {
    "scrolled": true
   },
   "outputs": [],
   "source": [
    "list(zip(x_vals,y_vals))"
   ]
  },
  {
   "cell_type": "markdown",
   "metadata": {},
   "source": [
    "How about a python function that finds the minumum of a mathematical function:"
   ]
  },
  {
   "cell_type": "code",
   "execution_count": null,
   "metadata": {},
   "outputs": [],
   "source": [
    "def a_function(x):\n",
    "    return (1+x)**2\n",
    "\n",
    "def find_min_0(f,x_min,x_max,steps=10):\n",
    "    \n",
    "    step_size=(x_max-x_min)/steps\n",
    "    x=x_min\n",
    "    y_min=f(x_min)\n",
    "    x_min_val=x_min\n",
    "\n",
    "    for i in range(steps):\n",
    "        y=f(x)\n",
    "        if y<y_min:\n",
    "            x_min_val=x\n",
    "            y_min=y\n",
    "        x+=step_size\n",
    "    \n",
    "    return x_min_val"
   ]
  },
  {
   "cell_type": "code",
   "execution_count": null,
   "metadata": {},
   "outputs": [],
   "source": [
    "find_min_0(a_function,-10,10,100)"
   ]
  },
  {
   "cell_type": "markdown",
   "metadata": {},
   "source": [
    "## Functional Programming\n",
    "\n",
    "In lab 2 you built a tic-tac-toe game by implementing a series of functions that performed various tasks, which you then combined in various ways to implement the game logic. What you wrote was a *structured program*, which consist of sequences of instructions, utilizing control flow (if/then/else), repetition (while and for), block structures, and function calls. \n",
    "\n",
    "*Functional Programming* is another style of programming that is not well suited to writing games, but is well suited to manipulating data. A functional program performs computation by evaluating mathematical functions, where the output only depend on the input. Data passes through as inputs/outputs of functions, but is otherwise never changed. This paradigm is often used in data science because manipulation of data can othen be viewed as composition of functions:\n",
    "\n",
    "$$\n",
    "D_{result} = f_n(f_{n-1}(...(f_0(D_{input}))))\n",
    "$$\n"
   ]
  },
  {
   "cell_type": "markdown",
   "metadata": {},
   "source": [
    "Lets write the function minimizer in a more functional way by realizing that we can perform the same task as a set of composition of functions:"
   ]
  },
  {
   "cell_type": "code",
   "execution_count": null,
   "metadata": {},
   "outputs": [],
   "source": [
    "def linspace(x_min,x_max,steps=10):\n",
    "    x=x_min\n",
    "    step_size=(x_max-x_min)/steps\n",
    "    out=list()\n",
    "    while x<x_max:\n",
    "        out.append(x)\n",
    "        x+=step_size\n",
    "    return out\n",
    "\n",
    "def arg_min(lst):\n",
    "    min_val=lst[0]\n",
    "    min_index=0\n",
    "    for i,val in enumerate(lst):\n",
    "        if val<min_val:\n",
    "            min_val=val\n",
    "            min_index=i\n",
    "            \n",
    "    return min_index\n"
   ]
  },
  {
   "cell_type": "markdown",
   "metadata": {},
   "source": [
    "Now lets write `find_min` in a more function way. Here is the original again:"
   ]
  },
  {
   "cell_type": "code",
   "execution_count": null,
   "metadata": {},
   "outputs": [],
   "source": [
    "def find_min_0(f,x_min,x_max,steps=10):\n",
    "    \n",
    "    step_size=(x_max-x_min)/steps\n",
    "    x=x_min\n",
    "    y_min=f(x_min)\n",
    "    x_min_val=x_min\n",
    "\n",
    "    for i in range(steps):\n",
    "        y=f(x)\n",
    "        if y<y_min:\n",
    "            x_min_val=x\n",
    "            y_min=y\n",
    "        x+=step_size\n",
    "    \n",
    "    return x_min_val"
   ]
  },
  {
   "cell_type": "markdown",
   "metadata": {},
   "source": [
    "This function:\n",
    "* Loops in \"step\", where in each step\n",
    "   * Considers a specific value of `x`, starting with `x_min`.\n",
    "   * Calculates `y=f(x)`.\n",
    "   * Keeps track of the minimum value of `y` found so far, and the associated `x`.\n",
    "   * Increments `x`.\n",
    "* Returns the value of `x` where `y` was the lowest.\n",
    "\n",
    "Lets think through the steps of implementing `find_min` functionally:\n",
    "* Create a list of all values of `x`.\n",
    "* Use that list to create all values of `y`.\n",
    "* Find the `arg_min` of lowest value of `y`. \n",
    "* Return the `x` value for lowest value of `y`.\n",
    "\n",
    "Here is the implementation:"
   ]
  },
  {
   "cell_type": "code",
   "execution_count": null,
   "metadata": {},
   "outputs": [],
   "source": [
    "def find_min_0(f,x_min,x_max,steps=100):\n",
    "    x_vals=linspace(x_min,x_max,steps)\n",
    "    y_vals=list(map(f,x_vals))\n",
    "    index=arg_min(y_vals)\n",
    "    return x_vals[index]\n",
    "\n",
    "# Same thing... all in one line.\n",
    "def find_min(f,x_min,x_max,steps=100):\n",
    "    return linspace(x_min,x_max,steps)[arg_min(list(map(f,linspace(x_min,x_max,steps))))]\n"
   ]
  },
  {
   "cell_type": "code",
   "execution_count": null,
   "metadata": {},
   "outputs": [],
   "source": [
    "find_min_0(a_function,-10.,10.,100)"
   ]
  },
  {
   "cell_type": "markdown",
   "metadata": {},
   "source": [
    "As a side, lets work out how to implement `a_range` recursively:"
   ]
  },
  {
   "cell_type": "code",
   "execution_count": null,
   "metadata": {},
   "outputs": [],
   "source": [
    "def a_range(x_min,x_max,steps=10):\n",
    "    if steps>1:\n",
    "        return [x_min] + a_range(x_min+((x_max-x_min)/steps),x_max,steps-1)\n",
    "    else:\n",
    "        return [x_min]\n",
    "\n",
    "def a_range_0(x_min,x_max,steps=10):\n",
    "    [x_min] + a_range(x_min+((x_max-x_min)/steps),x_max,steps-1) if steps>1 else [x_min]\n",
    "        "
   ]
  },
  {
   "cell_type": "markdown",
   "metadata": {},
   "source": [
    "We are not going to write functions this way, but the idea is to get familiar with seeing data manipulations as a composition of functions."
   ]
  },
  {
   "cell_type": "markdown",
   "metadata": {},
   "source": [
    "# Histograms"
   ]
  },
  {
   "cell_type": "code",
   "execution_count": null,
   "metadata": {},
   "outputs": [],
   "source": [
    "# Quickly make a list of 100 numbers between 5 and 15.\n",
    "data_0=(10*np.random.random(100)+5.).tolist()\n",
    "print(data_0)"
   ]
  },
  {
   "cell_type": "code",
   "execution_count": null,
   "metadata": {},
   "outputs": [],
   "source": [
    "# Or a normal distribution at 10 with sigma 2.5\n",
    "data_1=np.random.normal(10,2.5,1000)"
   ]
  },
  {
   "cell_type": "code",
   "execution_count": null,
   "metadata": {},
   "outputs": [],
   "source": [
    "np.histogram(data_0,bins=1)"
   ]
  },
  {
   "cell_type": "code",
   "execution_count": null,
   "metadata": {},
   "outputs": [],
   "source": [
    "print(min(data_0),max(data_0))"
   ]
  },
  {
   "cell_type": "code",
   "execution_count": null,
   "metadata": {},
   "outputs": [],
   "source": [
    "np.histogram(data_0,bins=2)"
   ]
  },
  {
   "cell_type": "code",
   "execution_count": null,
   "metadata": {},
   "outputs": [],
   "source": [
    "np.histogram(data_0,bins=3)"
   ]
  },
  {
   "cell_type": "code",
   "execution_count": null,
   "metadata": {},
   "outputs": [],
   "source": [
    "plt.hist(data_0,bins=3)"
   ]
  },
  {
   "cell_type": "code",
   "execution_count": null,
   "metadata": {},
   "outputs": [],
   "source": [
    "plt.hist(data_1)"
   ]
  },
  {
   "cell_type": "code",
   "execution_count": null,
   "metadata": {},
   "outputs": [],
   "source": [
    "np.mean(data_1)"
   ]
  },
  {
   "cell_type": "code",
   "execution_count": null,
   "metadata": {},
   "outputs": [],
   "source": [
    "np.std(data_1)"
   ]
  },
  {
   "cell_type": "markdown",
   "metadata": {},
   "source": [
    "## Histogram\n",
    "\n",
    "In Lab 3 you are asked to write a histogram function:\n",
    "\n",
    "* User inputs a list of values `x` and optionally `n_bins` which defaults to 10.\n",
    "* If not supplied, find the minimum and maximum (`x_min`,`x_max`) of the values in x.\n",
    "* Determine the bin size (`bin_size`) by dividing the range of the function by the number of bins.\n",
    "* Create an empty list of zeros of size `n_bins`, call it `hist`.\n",
    "* Loop over the values in `x`\n",
    "    * Loop over the values in `hist` with index `i`:\n",
    "        * If x is between `x_min+i*bin_size` and `x_min+(i+1)*bin_size`, increment `hist[i].` \n",
    "        * For efficiency, try to use continue to goto the next bin and data point.\n",
    "* Return `hist` and the list corresponding of the bin edges (i.e. of `x_min+i*bin_size`).    \n",
    "\n",
    "\n",
    "\n"
   ]
  },
  {
   "cell_type": "markdown",
   "metadata": {},
   "source": [
    "## Alternative\n",
    "* User inputs a list of values `x` and optionally `n_bins` which defaults to 10.\n",
    "* If not supplied, find the minimum and maximum (`x_min`,`x_max`) of the values in x.\n",
    "* Create an empty list of zeros of size `n_bins`, call it `hist`.\n",
    "* Create a list of `bin_edges` using `arange`.\n",
    "* Append the `x_max` to bin_edges.\n",
    "* Loop over the values in `x`\n",
    "    * Loop over the values in `hist` with index `i`:\n",
    "        * If x is between `bin_edge[i]` and `bin_edge[i+1]`, increment `hist[i].` \n",
    "        * For efficiency, try to use continue to goto the next bin and data point.\n",
    "* Return `hist` and the list corresponding of the bin edges (i.e. of `x_min+i*bin_size`).    \n",
    "\n"
   ]
  },
  {
   "cell_type": "code",
   "execution_count": null,
   "metadata": {},
   "outputs": [],
   "source": [
    "def histogram(data, n_bins=10,x_min=None, x_max=None):\n",
    "    if x_min==None:\n",
    "        x_min=min(data)\n",
    "    if x_max==None:\n",
    "        x_max=max(data)\n",
    "        \n",
    "    bin_edges = linspace(x_min,x_max,n_bins)\n",
    "    bin_edges.append(x_max)\n",
    "\n",
    "    hist=[0]*n_bins\n",
    "    \n",
    "    for d in data:\n",
    "        for i,(low_edge,high_edge) in enumerate(zip(bin_edges[:-1],bin_edges[1:])):\n",
    "            if d>=low_edge and d<high_edge:\n",
    "                hist[i]+=1\n",
    "                break\n",
    "                \n",
    "    return hist,bin_edges"
   ]
  },
  {
   "cell_type": "code",
   "execution_count": null,
   "metadata": {},
   "outputs": [],
   "source": [
    "histogram(data_0,10,0,10)"
   ]
  },
  {
   "cell_type": "code",
   "execution_count": null,
   "metadata": {},
   "outputs": [],
   "source": [
    "np.histogram(data_0,range=(0,10),bins=10)"
   ]
  },
  {
   "cell_type": "markdown",
   "metadata": {},
   "source": [
    "## Accept/Reject\n",
    "\n",
    "Inputs: \n",
    "\n",
    "* function `f`\n",
    "* number of points to generate `n`\n",
    "* range to generate within `x_min`, `x_max`\n",
    "* optional `n_steps`, defaulting to 100, used for finding min/max.\n",
    " \n",
    "Strategy:\n",
    "\n",
    "1. Find `y_min` and `y_max` of function `f` over input range.\n",
    "    1. Create/use new function `find_min_max` analgous to `find_min` above. \n",
    "1. Create output list to hold values.\n",
    "1. Use `while` statement to loop until length of output list is `n`.\n",
    "    1. Draw 2 random numbers from uniform distribution:\n",
    "        1. `x` in range [`x_min`,`x_max`] \n",
    "        1. `y` in range [`y_min`,`y_max`] \n",
    "    1. if `y` < `f(x)`, append `x` to output list.\n",
    "1. Return output list.\n",
    "\n",
    "\n",
    "### Computing Integral\n",
    "\n",
    "The integral should be `(x_max - x_min)*(y_max - y_min)` times the fraction of times that `y` < `f(x)`."
   ]
  },
  {
   "cell_type": "code",
   "execution_count": 9,
   "metadata": {},
   "outputs": [],
   "source": [
    "# Mariah Noelle Cornelio - Quiz 2 Lection 7 My Solution\n",
    "\n",
    "import random\n",
    "\n",
    "def function(x):\n",
    "    return ((x))+36 # Make this into any function you want to\n",
    "\n",
    "def find_min_max(f, x_min, x_max, n_steps=100): # Strategy 1A\n",
    "    step_size=(x_max-x_min)/n_steps\n",
    "    x=x_min\n",
    "    x_min_val=x_min\n",
    "    x_max_val=x_max\n",
    "    y_min=f(x_min)\n",
    "    y_max=f(x_max)\n",
    "\n",
    "    for i in range(n_steps):\n",
    "        y=f(x)\n",
    "        if y<y_min:\n",
    "            x_min_val=x\n",
    "            y_min=y\n",
    "        if y>y_max:\n",
    "            x_max_val=x\n",
    "            y_max=y\n",
    "        x=x+step_size\n",
    "    return x_min_val, x_max_val\n",
    "    \n",
    "def compute_integral(f, n, x_min, x_max, n_steps=100):\n",
    "    #y_min=find_min_max(f, x_min, x_max, n_steps)\n",
    "    #y_max=find_min_max(f, x_min, x_max, n_steps)\n",
    "    # ^^ It used to be this above code but it created an error with tuples ^^\n",
    "    y_min, y_max=find_min_max(f, x_min, x_max, n_steps)\n",
    "    output=[] # Strategy 2\n",
    "\n",
    "    while len(output)<n: # Strategy 3A\n",
    "        x=random.uniform(x_min, x_max)\n",
    "        y=random.uniform(y_min, y_max)\n",
    "\n",
    "        if y<f(x): # Strategy 3B \n",
    "            output.append(x)\n",
    "    \n",
    "    # Strategy 4\n",
    "    fraction=len(output)/n\n",
    "    integral=(x_max-x_min)*(y_max-y_min)*fraction\n",
    "    return integral \n"
   ]
  },
  {
   "cell_type": "code",
   "execution_count": 10,
   "metadata": {},
   "outputs": [
    {
     "name": "stdout",
     "output_type": "stream",
     "text": [
      "The integral for the information you provided is 16.0\n"
     ]
    }
   ],
   "source": [
    "# Testing my solution \n",
    "x_min=1\n",
    "x_max=5\n",
    "n=60\n",
    "integral1=compute_integral(function, n, x_min, x_max, n_steps=100)\n",
    "print(\"The integral for the information you provided is\", integral1)"
   ]
  },
  {
   "cell_type": "code",
   "execution_count": null,
   "metadata": {},
   "outputs": [],
   "source": []
  }
 ],
 "metadata": {
  "kernelspec": {
   "display_name": "Python 3 (ipykernel)",
   "language": "python",
   "name": "python3"
  },
  "language_info": {
   "codemirror_mode": {
    "name": "ipython",
    "version": 3
   },
   "file_extension": ".py",
   "mimetype": "text/x-python",
   "name": "python",
   "nbconvert_exporter": "python",
   "pygments_lexer": "ipython3",
   "version": "3.11.4"
  }
 },
 "nbformat": 4,
 "nbformat_minor": 4
}
