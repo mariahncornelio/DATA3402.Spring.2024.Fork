{
 "cells": [
  {
   "cell_type": "markdown",
   "metadata": {},
   "source": [
    "# Lab 2- Tic Tac Toe\n",
    "## Mariah Noelle Cornelio\n",
    "\n",
    "In this lab your will build a n x n Tic Tac Toe game. As you do the exercises, make sure your solutions work for any size Tic Tac Toe game. "
   ]
  },
  {
   "cell_type": "markdown",
   "metadata": {},
   "source": [
    "*Exercise 1:* Write a function that creates an n by n matrix (list of lists) which will represent the state of a Tic Tac Toe game. Let 0, 1, and 2 represent empty, \"X\", and \"O\", respectively.\n"
   ]
  },
  {
   "cell_type": "code",
   "execution_count": 1,
   "metadata": {},
   "outputs": [
    {
     "name": "stdout",
     "output_type": "stream",
     "text": [
      "Choose a number n. These will be the dimesions of your n x n gameboard: 5\n"
     ]
    },
    {
     "data": {
      "text/plain": [
       "[[0, 0, 0, 0, 0],\n",
       " [0, 0, 0, 0, 0],\n",
       " [0, 0, 0, 0, 0],\n",
       " [0, 0, 0, 0, 0],\n",
       " [0, 0, 0, 0, 0]]"
      ]
     },
     "execution_count": 1,
     "metadata": {},
     "output_type": "execute_result"
    }
   ],
   "source": [
    "empty=0\n",
    "player1_X=\"X\"\n",
    "player2_O=\"O\"\n",
    "\n",
    "size=int(input(\"Choose a number n. These will be the dimesions of your n x n gameboard: \"))\n",
    "\n",
    "board=[]\n",
    "for i in range(size):\n",
    "    board.append([empty]*size)\n",
    "    \n",
    "board"
   ]
  },
  {
   "cell_type": "markdown",
   "metadata": {},
   "source": [
    "*Exercise 2:* Write a function that takes 2 integers `n` and `m` as input and draws a `n` by `m` game board. For example the following is a 3x3 board:\n",
    "```\n",
    "   --- --- --- \n",
    "  |   |   |   | \n",
    "   --- --- ---  \n",
    "  |   |   |   | \n",
    "   --- --- ---  \n",
    "  |   |   |   | \n",
    "   --- --- --- \n",
    "   ```"
   ]
  },
  {
   "cell_type": "code",
   "execution_count": 2,
   "metadata": {},
   "outputs": [
    {
     "name": "stdout",
     "output_type": "stream",
     "text": [
      "How long do you want your tic tac toe game to be? 5\n",
      "\n",
      "How wide do you want your tic tac toe game to be? 8\n"
     ]
    }
   ],
   "source": [
    "n=int(input(\"How long do you want your tic tac toe game to be? \"))\n",
    "m=int(input(\"\\nHow wide do you want your tic tac toe game to be? \"))\n",
    "\n",
    "def create_gameboard(n,m):\n",
    "    gameboard=[]\n",
    "    for i in range(m):\n",
    "        gameboard.append([empty]*n)\n",
    "    return gameboard"
   ]
  },
  {
   "cell_type": "code",
   "execution_count": 3,
   "metadata": {},
   "outputs": [
    {
     "name": "stdout",
     "output_type": "stream",
     "text": [
      "\n",
      "Great! Successfully creating your 5 x 8 tic-tac-toe game board...\n",
      "\n"
     ]
    },
    {
     "data": {
      "text/plain": [
       "[[0, 0, 0, 0, 0],\n",
       " [0, 0, 0, 0, 0],\n",
       " [0, 0, 0, 0, 0],\n",
       " [0, 0, 0, 0, 0],\n",
       " [0, 0, 0, 0, 0],\n",
       " [0, 0, 0, 0, 0],\n",
       " [0, 0, 0, 0, 0],\n",
       " [0, 0, 0, 0, 0]]"
      ]
     },
     "execution_count": 3,
     "metadata": {},
     "output_type": "execute_result"
    }
   ],
   "source": [
    "print(\"\\nGreat! Successfully creating your\", n, \"x\", m, \"tic-tac-toe game board...\\n\")\n",
    "\n",
    "create_gameboard(n,m)"
   ]
  },
  {
   "cell_type": "markdown",
   "metadata": {},
   "source": [
    "*Exercise 3:* Modify exercise 2, so that it takes a matrix of the form from exercise 1 and draws a tic-tac-tie board with \"X\"s and \"O\"s.  "
   ]
  },
  {
   "cell_type": "code",
   "execution_count": 4,
   "metadata": {},
   "outputs": [
    {
     "name": "stdout",
     "output_type": "stream",
     "text": [
      "Choose a number n that will be the dimensions of your gameboard: 3\n"
     ]
    }
   ],
   "source": [
    "player1=1\n",
    "player2=2\n",
    "empty=0\n",
    "\n",
    "size=int(input(\"Choose a number n that will be the dimensions of your gameboard: \"))\n",
    "\n",
    "def make_alternating_gameboard(size): # Using this code for this exercise\n",
    "    gameboard=[[empty]*size for i in range(size)]\n",
    "    for i in range(size):\n",
    "        for j in range(size):\n",
    "            if (i +j)%2==0:\n",
    "                gameboard[i][j]=player1\n",
    "            else:\n",
    "                gameboard[i][j]=player2\n",
    "    return gameboard\n",
    "\n",
    "def make_gameboard(size): # Will use this code to test out actual game\n",
    "    gameboard=[[empty]*size for i in range(size)]\n",
    "    return gameboard\n",
    "    "
   ]
  },
  {
   "cell_type": "code",
   "execution_count": 5,
   "metadata": {},
   "outputs": [
    {
     "data": {
      "text/plain": [
       "[[1, 2, 1], [2, 1, 2], [1, 2, 1]]"
      ]
     },
     "execution_count": 5,
     "metadata": {},
     "output_type": "execute_result"
    }
   ],
   "source": [
    "gameboard_matrix=make_alternating_gameboard(size)\n",
    "gameboard_matrix # This outputs a matrix n x n with alternating player_1's and player_2's"
   ]
  },
  {
   "cell_type": "code",
   "execution_count": 6,
   "metadata": {},
   "outputs": [],
   "source": [
    "player1_X=\"X\"\n",
    "player2_O=\"O\"\n",
    "empty_space=\" \"\n",
    "\n",
    "characters={player1:player1_X, player2:player2_O, empty:empty_space }\n",
    "\n",
    "def draw_board(gameboard):\n",
    "    for i in range(size):\n",
    "        for j in range(size):\n",
    "            print(characters[gameboard[i][j]],end=\" \")\n",
    "        print()"
   ]
  },
  {
   "cell_type": "code",
   "execution_count": 7,
   "metadata": {},
   "outputs": [
    {
     "name": "stdout",
     "output_type": "stream",
     "text": [
      "X O X \n",
      "O X O \n",
      "X O X \n"
     ]
    }
   ],
   "source": [
    "draw_board(gameboard_matrix) # This draws the gameboard with X's and O's"
   ]
  },
  {
   "cell_type": "markdown",
   "metadata": {},
   "source": [
    "*Exercise 4:* Write a function that takes a `n` by `n` matrix representing a tic-tac-toe game, and returns -1, 0, 1, or 2 indicating the game is incomplete, the game is a draw, player 1 has won, or player 2 has won, respectively. Here are some example inputs you can use to test your code:"
   ]
  },
  {
   "cell_type": "code",
   "execution_count": 8,
   "metadata": {},
   "outputs": [],
   "source": [
    "player1=1\n",
    "player2=2\n",
    "empty=0\n",
    "\n",
    "def check_gameboard(gameboard):\n",
    "    player1_wins=False # Start False because if True, that means a player has won\n",
    "    player2_wins=False\n",
    "\n",
    "    # Check gameboard winning combinations for both players\n",
    "    for player in [player1, player2]:\n",
    "        if any(all(cell==player for cell in row) for row in gameboard):\n",
    "            if player==player1:\n",
    "                player1_wins=True\n",
    "            else:\n",
    "                player2_wins=True\n",
    "                \n",
    "        # Check columns\n",
    "        if any(all(row[j]==player for row in gameboard) for j in range(len(gameboard))):\n",
    "            if player==player1:\n",
    "                player1_wins=True\n",
    "            else:\n",
    "                player2_wins=True\n",
    "                \n",
    "        # Check diagonal\n",
    "        if all(gameboard[i][i]==player for i in range(len(gameboard))):\n",
    "            if player==player1:\n",
    "                player1_wins=True\n",
    "            else:\n",
    "                player2_wins=True\n",
    "\n",
    "        # Check other diagonal\n",
    "        if all(gameboard[i][len(gameboard) - 1 - i] == player for i in range(len(gameboard))):\n",
    "            if player==player1:\n",
    "                player1_wins=True\n",
    "            else:\n",
    "                player2_wins=True\n",
    "\n",
    "    # Check game status\n",
    "    if player1_wins and player2_wins:\n",
    "        return \"GAME STATUS: (2) Oh? Both players have won??? Impossible ... GAME OVER.\"\n",
    "    elif player1_wins:\n",
    "        return \"GAME STATUS: (1) Player 1 has won! Congratulations! :D ... GAME OVER.\"\n",
    "    elif player2_wins:\n",
    "        return \"GAME STATUS: (2) Player 2 has won! Yippeee! :D ... GAME OVER.\"\n",
    "    else:\n",
    "        if all(cell==player1 or cell==player2 for row in gameboard for cell in row):\n",
    "            return \"GAME STATUS: (0) Oh no! A tie! Womp womp... Play again?\"\n",
    "        else:\n",
    "            return None\n",
    "        \n",
    "def game_won(gameboard):\n",
    "    result=check_gameboard(gameboard)\n",
    "    return result is not None"
   ]
  },
  {
   "cell_type": "code",
   "execution_count": 9,
   "metadata": {},
   "outputs": [
    {
     "name": "stdout",
     "output_type": "stream",
     "text": [
      "X O X \n",
      "O X O \n",
      "X O X \n"
     ]
    },
    {
     "data": {
      "text/plain": [
       "'GAME STATUS: (1) Player 1 has won! Congratulations! :D ... GAME OVER.'"
      ]
     },
     "execution_count": 9,
     "metadata": {},
     "output_type": "execute_result"
    }
   ],
   "source": [
    "draw_board(gameboard_matrix)\n",
    "check_gameboard(gameboard_matrix)"
   ]
  },
  {
   "cell_type": "code",
   "execution_count": 10,
   "metadata": {},
   "outputs": [],
   "source": [
    "winner_is_2 = [[2, 2, 0],\n",
    "\t[2, 1, 0],\n",
    "\t[2, 1, 1]]\n",
    "\n",
    "winner_is_1 = [[1, 2, 0],\n",
    "\t[2, 1, 0],\n",
    "\t[2, 1, 1]]\n",
    "\n",
    "winner_is_also_1 = [[0, 1, 0],\n",
    "\t[2, 1, 0],\n",
    "\t[2, 1, 1]]\n",
    "\n",
    "no_winner = [[1, 2, 0],\n",
    "\t[2, 1, 0],\n",
    "\t[2, 1, 2]]\n",
    "\n",
    "also_no_winner = [[1, 2, 0],\n",
    "\t[2, 1, 0],\n",
    "\t[2, 1, 0]]"
   ]
  },
  {
   "cell_type": "markdown",
   "metadata": {},
   "source": [
    "*Exercise 5:* Write a function that takes a game board, player number, and `(x,y)` coordinates and places \"X\" or \"O\" in the correct location of the game board. Make sure that you only allow filling previously empty locations. Return `True` or `False` to indicate successful placement of \"X\" or \"O\"."
   ]
  },
  {
   "cell_type": "code",
   "execution_count": 11,
   "metadata": {},
   "outputs": [],
   "source": [
    "def place_symbol(gameboard, player, x, y):\n",
    "    # Check if player exists\n",
    "    if player not in [player1, player2]:\n",
    "        print(\"Invalid player. Make sure to choose player1 or player 2 to proceed.\\n\")\n",
    "        return False\n",
    "    \n",
    "    # Check if the coordinates are in the board\n",
    "    if x<0 or x>=len(gameboard) or y<0 or y>=len(gameboard[0]):\n",
    "        print(\"Location is off the board. Please place somewhere else.\\n\")\n",
    "        return False\n",
    "\n",
    "    # Check if specified location is empty\n",
    "    if gameboard[x][y]==0:\n",
    "        # Place \"X\" for player 1 and \"O\" for player 2\n",
    "        symbol=1 if player==player1 else 2\n",
    "        gameboard[x][y]=symbol\n",
    "        return True\n",
    "    else:\n",
    "        print(\"Location is already filled. Pleace place somewhere else.\\n\")\n",
    "        return False"
   ]
  },
  {
   "cell_type": "code",
   "execution_count": 46,
   "metadata": {},
   "outputs": [
    {
     "name": "stdout",
     "output_type": "stream",
     "text": [
      "    O \n",
      "O X   \n",
      "    X \n"
     ]
    }
   ],
   "source": [
    "# test_gameboard1=make_gameboard(3)\n",
    "# draw_board(test_gameboard1)\n",
    "place_symbol(test_gameboard1, player2, 1,0)\n",
    "draw_board(test_gameboard1)\n",
    "check_gameboard(test_gameboard1)"
   ]
  },
  {
   "cell_type": "markdown",
   "metadata": {},
   "source": [
    "*Exercise 6:* Modify Exercise 4 to show column and row labels so that players can specify location using \"A2\" or \"C1\"."
   ]
  },
  {
   "cell_type": "code",
   "execution_count": 12,
   "metadata": {},
   "outputs": [],
   "source": [
    "row_names=list(\"ABCDEFGHIJKLMNOPQRSTUVWXYZ\")\n",
    "row_map=dict(zip(row_names,range(size)))\n",
    "\n",
    "column_names=list(map(str,range(1,size+1)))\n",
    "column_map=dict(zip(column_names,range(size)))\n",
    "        \n",
    "def draw_board(board):\n",
    "    size=len(board)\n",
    "    row_names=list(\"ABCDEFGHIJKLMNOPQRSTUVWXYZ\")\n",
    "    column_names=list(map(str, range(1, size+1)))\n",
    "    print(\" \")\n",
    "    \n",
    "    print(\" \", end=\" \")\n",
    "    for j in range(size):\n",
    "        print(column_names[j], end=\" \")\n",
    "    print()\n",
    "\n",
    "    for i in range(size):\n",
    "        print(row_names[i], end=\" \")\n",
    "        for j in range(size):\n",
    "            print(characters[board[i][j]], end=\" \")\n",
    "        print()"
   ]
  },
  {
   "cell_type": "code",
   "execution_count": 13,
   "metadata": {},
   "outputs": [
    {
     "name": "stdout",
     "output_type": "stream",
     "text": [
      " \n",
      "  1 2 3 \n",
      "A X O X \n",
      "B O X O \n",
      "C X O X \n"
     ]
    }
   ],
   "source": [
    "draw_board(gameboard_matrix)"
   ]
  },
  {
   "cell_type": "markdown",
   "metadata": {},
   "source": [
    "*Exercise 7:* Write a function that takes a board, player number, and location specified as in exercise 6 and then calls exercise 5 to correctly modify the board.  "
   ]
  },
  {
   "cell_type": "code",
   "execution_count": 14,
   "metadata": {},
   "outputs": [],
   "source": [
    "def place_move(gameboard, player, location):\n",
    "    # rows=row_map -> This is the original code I tried that takes \"1A\" as the coords instead of \"A1\"\n",
    "    # columns=column_map\n",
    "    \n",
    "    columns=row_map # This part is flipped so input would be \"A1\" rather than \"1A\"\n",
    "    rows=column_map # Fix this later if time permits\n",
    "    \n",
    "    if len(location)!=2:\n",
    "        print(\"That is not a location on the board. Choose a location on the baord please D:.\\n\")\n",
    "        return False\n",
    "    \n",
    "    if location[0] not in columns or location[1] not in rows:\n",
    "        print(\"\\nNot a good move. Choose a location on the board. ):\\n\")\n",
    "        return False\n",
    "\n",
    "    x=rows[location[1]]\n",
    "    y=columns[location[0]]\n",
    "\n",
    "    # Refer back to Exercise 5 function to update the board\n",
    "    return place_symbol(gameboard, player, x, y)"
   ]
  },
  {
   "cell_type": "code",
   "execution_count": 54,
   "metadata": {},
   "outputs": [
    {
     "name": "stdout",
     "output_type": "stream",
     "text": [
      " \n",
      "  1 2 3 \n",
      "A   X   \n",
      "B O     \n",
      "C O   X \n"
     ]
    }
   ],
   "source": [
    "# test_gameboard2=make_gameboard(3)\n",
    "# draw_board(test_gameboard2)\n",
    "place_move(test_gameboard2, player2, \"A2\")\n",
    "draw_board(test_gameboard2)\n",
    "check_gameboard(test_gameboard2)"
   ]
  },
  {
   "cell_type": "markdown",
   "metadata": {},
   "source": [
    "*Exercise 8:* Write a function is called with a board and player number, takes input from the player using python's `input`, and modifies the board using your function from exercise 7. Note that you should keep asking for input until you have gotten a valid input that results in a valid move."
   ]
  },
  {
   "cell_type": "code",
   "execution_count": 15,
   "metadata": {},
   "outputs": [],
   "source": [
    "def player_moves(gameboard, player):\n",
    "    size=len(gameboard)\n",
    "    row_names=list(\"ABCDEFGHIJKLMNOPQRSTUVWXYZ\")[:size]\n",
    "    column_names=list(map(str, range(1, size + 1)))\n",
    "    row_map=dict(zip(row_names, range(size)))\n",
    "    column_map=dict(zip(column_names, range(size)))\n",
    "\n",
    "    while True:\n",
    "        location=input(\"Enter your move (e.g., A1): \").upper()\n",
    "\n",
    "        # Validate if input is real location on matrix\n",
    "        if len(location)!=2 or location[0] not in row_map or location[1] not in column_map:\n",
    "            print(\"Invalid input. Please enter a valid location: \")\n",
    "            continue  # Restart the loop for a new input\n",
    "\n",
    "        x=row_map[location[0]]\n",
    "        y=column_map[location[1]]\n",
    "\n",
    "        # Refer back to Exercise 5 function to update the board\n",
    "        result=place_symbol(gameboard, player, x, y)\n",
    "\n",
    "        if result:\n",
    "            break \n",
    "        else:\n",
    "            print(\"Location is filled. Please choose another location: \")\n"
   ]
  },
  {
   "cell_type": "code",
   "execution_count": 58,
   "metadata": {},
   "outputs": [
    {
     "name": "stdout",
     "output_type": "stream",
     "text": [
      "Enter your move (e.g., A1): C3\n",
      " \n",
      "  1 2 3 \n",
      "A X     \n",
      "B       \n",
      "C     O \n"
     ]
    }
   ],
   "source": [
    "# test_gameboard3=make_gameboard(3)\n",
    "# draw_board(test_gameboard3)\n",
    "\n",
    "# player_moves(test_gameboard3, player1)\n",
    "player_moves(test_gameboard3, player2)\n",
    "draw_board(test_gameboard3)\n",
    "check_gameboard(test_gameboard3)\n"
   ]
  },
  {
   "cell_type": "markdown",
   "metadata": {},
   "source": [
    "*Exercise 9:* Use all of the previous exercises to implement a full tic-tac-toe game, where an appropriate board is drawn, 2 players are repeatedly asked for a location coordinates of where they wish to place a mark, and the game status is checked until a player wins or a draw occurs."
   ]
  },
  {
   "cell_type": "code",
   "execution_count": 16,
   "metadata": {},
   "outputs": [],
   "source": [
    "def tic_tac_toe():\n",
    "\n",
    "    print(\"TIC TAC TOE\")\n",
    "    print(\"-----------------------------------\\n\")\n",
    "\n",
    "    # Make a game board\n",
    "    n=int(input(\"Enter a number n that will be the size of your n x n gameboard: \"))\n",
    "    print(\"\\n-----------------------------------\")\n",
    "    prototype_board=make_gameboard(n)\n",
    "    \n",
    "    # Start with player 1\n",
    "    player=player1\n",
    "    \n",
    "    while not game_won(prototype_board):\n",
    "        # Draw the board\n",
    "        draw_board(prototype_board)\n",
    "        print(\" \")\n",
    "        \n",
    "        # Make a move\n",
    "        print(\"Player\",player,\",\")\n",
    "        player_moves(prototype_board,player)\n",
    "        print(\"\\n-----------------------------------\")\n",
    "\n",
    "        # Switch players\n",
    "        if player==player1:\n",
    "            player=player2\n",
    "        else:\n",
    "            player=player1\n",
    "            \n",
    "    draw_board(prototype_board)\n",
    "    print(\"\\n\")\n",
    "    print(check_gameboard(prototype_board))"
   ]
  },
  {
   "cell_type": "code",
   "execution_count": 17,
   "metadata": {},
   "outputs": [
    {
     "name": "stdout",
     "output_type": "stream",
     "text": [
      "TIC TAC TOE\n",
      "-----------------------------------\n",
      "\n",
      "Enter a number n that will be the size of your n x n gameboard: 3\n",
      "\n",
      "-----------------------------------\n",
      " \n",
      "  1 2 3 \n",
      "A       \n",
      "B       \n",
      "C       \n",
      " \n",
      "Player 1 ,\n",
      "Enter your move (e.g., A1): A1\n",
      "\n",
      "-----------------------------------\n",
      " \n",
      "  1 2 3 \n",
      "A X     \n",
      "B       \n",
      "C       \n",
      " \n",
      "Player 2 ,\n",
      "Enter your move (e.g., A1): B2\n",
      "\n",
      "-----------------------------------\n",
      " \n",
      "  1 2 3 \n",
      "A X     \n",
      "B   O   \n",
      "C       \n",
      " \n",
      "Player 1 ,\n",
      "Enter your move (e.g., A1): C3\n",
      "\n",
      "-----------------------------------\n",
      " \n",
      "  1 2 3 \n",
      "A X     \n",
      "B   O   \n",
      "C     X \n",
      " \n",
      "Player 2 ,\n",
      "Enter your move (e.g., A1): B3\n",
      "\n",
      "-----------------------------------\n",
      " \n",
      "  1 2 3 \n",
      "A X     \n",
      "B   O O \n",
      "C     X \n",
      " \n",
      "Player 1 ,\n",
      "Enter your move (e.g., A1): B1\n",
      "\n",
      "-----------------------------------\n",
      " \n",
      "  1 2 3 \n",
      "A X     \n",
      "B X O O \n",
      "C     X \n",
      " \n",
      "Player 2 ,\n",
      "Enter your move (e.g., A1): C1\n",
      "\n",
      "-----------------------------------\n",
      " \n",
      "  1 2 3 \n",
      "A X     \n",
      "B X O O \n",
      "C O   X \n",
      " \n",
      "Player 1 ,\n",
      "Enter your move (e.g., A1): A3\n",
      "\n",
      "-----------------------------------\n",
      " \n",
      "  1 2 3 \n",
      "A X   X \n",
      "B X O O \n",
      "C O   X \n",
      " \n",
      "Player 2 ,\n",
      "Enter your move (e.g., A1): C2\n",
      "\n",
      "-----------------------------------\n",
      " \n",
      "  1 2 3 \n",
      "A X   X \n",
      "B X O O \n",
      "C O O X \n",
      " \n",
      "Player 1 ,\n",
      "Enter your move (e.g., A1): A2\n",
      "\n",
      "-----------------------------------\n",
      " \n",
      "  1 2 3 \n",
      "A X X X \n",
      "B X O O \n",
      "C O O X \n",
      "\n",
      "\n",
      "GAME STATUS: (1) Player 1 has won! Congratulations! :D ... GAME OVER.\n"
     ]
    }
   ],
   "source": [
    "tic_tac_toe() # I played this with my friend Vinny"
   ]
  },
  {
   "cell_type": "markdown",
   "metadata": {},
   "source": [
    "*Exercise 10:* Test that your game works for 5x5 Tic Tac Toe.  "
   ]
  },
  {
   "cell_type": "code",
   "execution_count": 30,
   "metadata": {},
   "outputs": [
    {
     "name": "stdout",
     "output_type": "stream",
     "text": [
      "TIC TAC TOE\n",
      "-----------------------------------\n",
      "\n",
      "Enter a number n that will be the size of your n x n gameboard: 5\n",
      "\n",
      "-----------------------------------\n",
      " \n",
      "  1 2 3 4 5 \n",
      "A           \n",
      "B           \n",
      "C           \n",
      "D           \n",
      "E           \n",
      " \n",
      "Player 1 ,\n",
      "Enter your move (e.g., A1): C3\n",
      "\n",
      "-----------------------------------\n",
      " \n",
      "  1 2 3 4 5 \n",
      "A           \n",
      "B           \n",
      "C     X     \n",
      "D           \n",
      "E           \n",
      " \n",
      "Player 2 ,\n",
      "Enter your move (e.g., A1): D5\n",
      "\n",
      "-----------------------------------\n",
      " \n",
      "  1 2 3 4 5 \n",
      "A           \n",
      "B           \n",
      "C     X     \n",
      "D         O \n",
      "E           \n",
      " \n",
      "Player 1 ,\n",
      "Enter your move (e.g., A1): E3\n",
      "\n",
      "-----------------------------------\n",
      " \n",
      "  1 2 3 4 5 \n",
      "A           \n",
      "B           \n",
      "C     X     \n",
      "D         O \n",
      "E     X     \n",
      " \n",
      "Player 2 ,\n",
      "Enter your move (e.g., A1): D4\n",
      "\n",
      "-----------------------------------\n",
      " \n",
      "  1 2 3 4 5 \n",
      "A           \n",
      "B           \n",
      "C     X     \n",
      "D       O O \n",
      "E     X     \n",
      " \n",
      "Player 1 ,\n",
      "Enter your move (e.g., A1): D3\n",
      "\n",
      "-----------------------------------\n",
      " \n",
      "  1 2 3 4 5 \n",
      "A           \n",
      "B           \n",
      "C     X     \n",
      "D     X O O \n",
      "E     X     \n",
      " \n",
      "Player 2 ,\n",
      "Enter your move (e.g., A1): B3\n",
      "\n",
      "-----------------------------------\n",
      " \n",
      "  1 2 3 4 5 \n",
      "A           \n",
      "B     O     \n",
      "C     X     \n",
      "D     X O O \n",
      "E     X     \n",
      " \n",
      "Player 1 ,\n",
      "Enter your move (e.g., A1): D2\n",
      "\n",
      "-----------------------------------\n",
      " \n",
      "  1 2 3 4 5 \n",
      "A           \n",
      "B     O     \n",
      "C     X     \n",
      "D   X X O O \n",
      "E     X     \n",
      " \n",
      "Player 2 ,\n",
      "Enter your move (e.g., A1): A1\n",
      "\n",
      "-----------------------------------\n",
      " \n",
      "  1 2 3 4 5 \n",
      "A O         \n",
      "B     O     \n",
      "C     X     \n",
      "D   X X O O \n",
      "E     X     \n",
      " \n",
      "Player 1 ,\n",
      "Enter your move (e.g., A1): C4\n",
      "\n",
      "-----------------------------------\n",
      " \n",
      "  1 2 3 4 5 \n",
      "A O         \n",
      "B     O     \n",
      "C     X X   \n",
      "D   X X O O \n",
      "E     X     \n",
      " \n",
      "Player 2 ,\n",
      "Enter your move (e.g., A1): C5\n",
      "\n",
      "-----------------------------------\n",
      " \n",
      "  1 2 3 4 5 \n",
      "A O         \n",
      "B     O     \n",
      "C     X X O \n",
      "D   X X O O \n",
      "E     X     \n",
      " \n",
      "Player 1 ,\n",
      "Enter your move (e.g., A1): A5\n",
      "\n",
      "-----------------------------------\n",
      " \n",
      "  1 2 3 4 5 \n",
      "A O       X \n",
      "B     O     \n",
      "C     X X O \n",
      "D   X X O O \n",
      "E     X     \n",
      " \n",
      "Player 2 ,\n",
      "Enter your move (e.g., A1): B5\n",
      "\n",
      "-----------------------------------\n",
      " \n",
      "  1 2 3 4 5 \n",
      "A O       X \n",
      "B     O   O \n",
      "C     X X O \n",
      "D   X X O O \n",
      "E     X     \n",
      " \n",
      "Player 1 ,\n",
      "Enter your move (e.g., A1): E1\n",
      "\n",
      "-----------------------------------\n",
      " \n",
      "  1 2 3 4 5 \n",
      "A O       X \n",
      "B     O   O \n",
      "C     X X O \n",
      "D   X X O O \n",
      "E X   X     \n",
      " \n",
      "Player 2 ,\n",
      "Enter your move (e.g., A1): E5\n",
      "\n",
      "-----------------------------------\n",
      " \n",
      "  1 2 3 4 5 \n",
      "A O       X \n",
      "B     O   O \n",
      "C     X X O \n",
      "D   X X O O \n",
      "E X   X   O \n",
      " \n",
      "Player 1 ,\n",
      "Enter your move (e.g., A1): B4\n",
      "\n",
      "-----------------------------------\n",
      " \n",
      "  1 2 3 4 5 \n",
      "A O       X \n",
      "B     O X O \n",
      "C     X X O \n",
      "D   X X O O \n",
      "E X   X   O \n",
      "\n",
      "\n",
      "GAME STATUS: (1) Player 1 has won! Congratulations! :D ... GAME OVER.\n"
     ]
    }
   ],
   "source": [
    "tic_tac_toe() # I played this with my friend Karl Robin"
   ]
  },
  {
   "cell_type": "markdown",
   "metadata": {},
   "source": [
    "*Exercise 11:* (Advanced / Challenge) Develop a version of the game where one player is the computer. Note that you don't need to do an extensive seach for the best move. You can have the computer simply protect against loosing and otherwise try to win with straight or diagonal patterns."
   ]
  },
  {
   "cell_type": "code",
   "execution_count": null,
   "metadata": {},
   "outputs": [],
   "source": [
    "# Write you solution here"
   ]
  },
  {
   "cell_type": "code",
   "execution_count": null,
   "metadata": {},
   "outputs": [],
   "source": [
    "# Test your solution here"
   ]
  }
 ],
 "metadata": {
  "kernelspec": {
   "display_name": "Python 3 (ipykernel)",
   "language": "python",
   "name": "python3"
  },
  "language_info": {
   "codemirror_mode": {
    "name": "ipython",
    "version": 3
   },
   "file_extension": ".py",
   "mimetype": "text/x-python",
   "name": "python",
   "nbconvert_exporter": "python",
   "pygments_lexer": "ipython3",
   "version": "3.11.4"
  }
 },
 "nbformat": 4,
 "nbformat_minor": 2
}
